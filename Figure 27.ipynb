{
 "cells": [
  {
   "cell_type": "code",
   "execution_count": 1,
   "metadata": {},
   "outputs": [],
   "source": [
    "import numpy as np\n",
    "import matplotlib.pyplot as plt\n",
    "import matplotlib.colors as mcolors\n",
    "\n",
    "from scipy import integrate\n",
    "\n",
    "import pandas as pd\n",
    "import os"
   ]
  },
  {
   "cell_type": "code",
   "execution_count": 2,
   "metadata": {},
   "outputs": [],
   "source": [
    "# These .csv files are available on the GitHub as well. The data for this plot was generated in Wolfram Mathematica.\n",
    "# One can easily use Mathematica to solve for the explicit formulas of the equilibrium points as functions of rho_5C,\n",
    "# which can then be plotted and exported to Python to create the figure. \n",
    "\n",
    "upper_part = pd.read_csv('..\\..\\..\\Bifurcation rho upper part part.csv', header=None, names=['x', 'y'])\n",
    "\n",
    "lower_part = pd.read_csv('..\\..\\..\\Bifurcation rho lower part part.csv', header=None, names=['x', 'y'])"
   ]
  },
  {
   "cell_type": "code",
   "execution_count": 3,
   "metadata": {},
   "outputs": [
    {
     "data": {
      "text/plain": [
       "[<matplotlib.lines.Line2D at 0x2d1a4962af0>]"
      ]
     },
     "execution_count": 3,
     "metadata": {},
     "output_type": "execute_result"
    },
    {
     "data": {
      "image/png": "[encoded data removed]",
      "text/plain": [
       "<Figure size 504x360 with 1 Axes>"
      ]
     },
     "metadata": {
      "needs_background": "light"
     },
     "output_type": "display_data"
    }
   ],
   "source": [
    "fig, axs = plt.subplots(1,1,figsize=(7,5))\n",
    "\n",
    "axs.plot(upper_part['x'], upper_part['y'],'k--',linewidth=2.5)\n",
    "axs.plot(lower_part['x'], lower_part['y'],'k-',linewidth=2.5)\n",
    "axs.plot(np.array([0,0.7]),np.array([0,0]),'k--',linewidth=3)\n",
    "\n",
    "#axs.plot([1000,2000],[0,0],'k-',linewidth=3.5)\n",
    "\n",
    "axs.set_xticks([0.2,0.3,0.4,0.5,0.6,0.7])\n",
    "axs.set_xticklabels(['0.2','0.3','0.4','0.5','0.6',r'$\\tilde{\\rho}_{5C}$'],fontsize=14)\n",
    "\n",
    "axs.set_yticks([0.00000,0.00001,0.00002,0.00003,0.00004,0.00005,0.00006,0.00007,0.00008])\n",
    "axs.set_yticklabels(['0','1','2','3','4','5','6','7',r'$\\tilde{x}_{1}$'],fontsize=14)\n",
    "\n",
    "axs.text(0.205,0.000081,'1e-5',fontsize=12)\n",
    "\n",
    "axs.get_xticklabels()[-1].set_fontsize(16)\n",
    "axs.get_yticklabels()[-1].set_fontsize(16)\n",
    "\n",
    "axs.set_xlim(0.2,0.7)\n",
    "axs.set_ylim(0,0.00008)\n",
    "\n",
    "axs.text(0.21,0.000002,r'$e_0$',fontsize=16)\n",
    "axs.text(0.65,0.000005,r'$e_1$',fontsize=16)\n",
    "axs.text(0.65,0.000075,r'$e_2$',fontsize=16)\n",
    "#axs.text(1010,0.00003,r'$e_0$',fontsize=16)\n",
    "\n",
    "axs.plot(0.374671,0.000016,'ro',markersize=6)"
   ]
  }
 ],
 "metadata": {
  "kernelspec": {
   "display_name": "Python 3",
   "language": "python",
   "name": "python3"
  },
  "language_info": {
   "codemirror_mode": {
    "name": "ipython",
    "version": 3
   },
   "file_extension": ".py",
   "mimetype": "text/x-python",
   "name": "python",
   "nbconvert_exporter": "python",
   "pygments_lexer": "ipython3",
   "version": "3.8.3"
  }
 },
 "nbformat": 4,
 "nbformat_minor": 4
}
