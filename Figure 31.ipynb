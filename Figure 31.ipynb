{
 "cells": [
  {
   "cell_type": "code",
   "execution_count": 1,
   "metadata": {},
   "outputs": [],
   "source": [
    "import numpy as np\n",
    "import matplotlib.pyplot as plt\n",
    "import matplotlib.colors as mcolors\n",
    "\n",
    "from scipy import integrate"
   ]
  },
  {
   "cell_type": "code",
   "execution_count": 2,
   "metadata": {},
   "outputs": [],
   "source": [
    "def single_MTD(t,t0=0,num_weeks=4,week_length=0.01,decay=500):\n",
    "    \n",
    "    tmax0 = t0+num_weeks*week_length\n",
    "    \n",
    "    if t<t0:\n",
    "        return 0\n",
    "    if t>=tmax0:\n",
    "        return 0\n",
    "    for i in range(num_weeks):\n",
    "        if (t>=t0+i*(week_length))&(t<t0+(i+1)*(week_length))&( (i+1)%4!=0 ):\n",
    "            return np.exp( decay*(t0+i*(week_length)-t) )\n",
    "        elif (t>=t0+i*(week_length))&(t<t0+(i+1)*(week_length))&( (i+1)%4==0 ):\n",
    "            return 0\n",
    "        \n",
    "def single_LDM(t,t0=0,num_weeks=5,week_length=0.01,decay=500):\n",
    "    \n",
    "    num_days = 12*7\n",
    "    tmax = t0+num_weeks*week_length\n",
    "    \n",
    "    if t<t0:\n",
    "        return 0\n",
    "    if t>=tmax:\n",
    "        return 0\n",
    "    for i in range(num_days):\n",
    "        if (t>=t0+i*(week_length/7))&(t<t0+(i+1)*(week_length/7)):\n",
    "            return 0.3*np.exp( decay*(t0+i*(week_length/7)-t) )"
   ]
  },
  {
   "cell_type": "code",
   "execution_count": 3,
   "metadata": {},
   "outputs": [],
   "source": [
    "t_vals = np.linspace(-0.02,0.06,10000)\n",
    "sMTD_vals_list = []\n",
    "for t in t_vals:\n",
    "    sMTD_vals_list.append(single_MTD(t))\n",
    "sMTD_vals = np.array(sMTD_vals_list)\n",
    "\n",
    "t_vals = np.linspace(-0.02,0.06,10000)\n",
    "sLDM_vals_list = []\n",
    "for t in t_vals:\n",
    "    sLDM_vals_list.append(single_LDM(t))\n",
    "sLDM_vals = np.array(sLDM_vals_list)"
   ]
  },
  {
   "cell_type": "code",
   "execution_count": 4,
   "metadata": {},
   "outputs": [],
   "source": [
    "minor_ticks = []\n",
    "for i in range(83):\n",
    "    if i*(0.01/7)%0.01!=0:\n",
    "        minor_ticks.append(i*(0.01/7))"
   ]
  },
  {
   "cell_type": "code",
   "execution_count": 5,
   "metadata": {},
   "outputs": [
    {
     "data": {
      "image/png": "[encoded data removed]",
      "text/plain": [
       "<Figure size 720x180 with 2 Axes>"
      ]
     },
     "metadata": {
      "needs_background": "light"
     },
     "output_type": "display_data"
    }
   ],
   "source": [
    "fig, axs = plt.subplots(1, 2, figsize=(10, 2.5))\n",
    "\n",
    "axs[0].plot(t_vals,sMTD_vals,'k',linewidth=2)\n",
    "axs[0].set_xlim(0,0.04)\n",
    "axs[0].set_ylim(0,1)\n",
    "\n",
    "axs[1].plot(t_vals,sLDM_vals,'k',linewidth=2)\n",
    "axs[1].set_xlim(0,0.04)\n",
    "axs[1].set_ylim(0,1)\n",
    "\n",
    "axs[0].set_xticks([0,0.01,0.02,0.03,0.04])\n",
    "axs[0].set_xticklabels([r'$\\tilde{t}_0$',r'$\\tilde{t}_{w,1}$',r'$\\tilde{t}_{w,2}$',r'$\\tilde{t}_{w,3}$',r'$\\tilde{t}_{w,4}$'],fontsize=13)\n",
    "axs[0].set_yticks([0.0,0.2,0.4,0.6,0.8,1.0])\n",
    "axs[0].set_yticklabels(['0.0','0.2','0.4','0.6','0.8',r'$\\tilde{D}_{MTD}\\left(\\frac{\\tilde{t}}{r_1}\\right)$'],fontsize=12)\n",
    "axs[0].get_yticklabels()[-1].set_fontsize(13)\n",
    "\n",
    "axs[1].set_xticks([0,0.01,0.02,0.03,0.04])\n",
    "axs[1].set_xticklabels([r'$\\tilde{t}_0$',r'$\\tilde{t}_{w,1}$',r'$\\tilde{t}_{w,2}$',r'$\\tilde{t}_{w,3}$',r'$\\tilde{t}_{w,4}$'],fontsize=13)\n",
    "axs[1].set_xticks(minor_ticks,minor='true')\n",
    "axs[1].set_yticks([0.0,0.2,0.4,0.6,0.8,1.0])\n",
    "axs[1].set_yticklabels(['0.0','0.2','0.4','0.6','0.8',r'$\\tilde{D}_{LDM}\\left(\\frac{\\tilde{t}}{r_1}\\right)$'],fontsize=12)\n",
    "axs[1].get_yticklabels()[-1].set_fontsize(13)\n",
    "\n",
    "axs[0].text(0,1.025,'(a)',fontsize=12)\n",
    "axs[1].text(0,1.025,'(b)',fontsize=12)\n",
    "\n",
    "axs[1].set_xlim(0,0.04)\n",
    "axs[1].set_ylim(0,1)\n",
    "\n",
    "plt.subplots_adjust(wspace=0.3)"
   ]
  }
 ],
 "metadata": {
  "kernelspec": {
   "display_name": "Python 3",
   "language": "python",
   "name": "python3"
  },
  "language_info": {
   "codemirror_mode": {
    "name": "ipython",
    "version": 3
   },
   "file_extension": ".py",
   "mimetype": "text/x-python",
   "name": "python",
   "nbconvert_exporter": "python",
   "pygments_lexer": "ipython3",
   "version": "3.8.3"
  }
 },
 "nbformat": 4,
 "nbformat_minor": 4
}
