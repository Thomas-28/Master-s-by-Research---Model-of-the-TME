{
 "cells": [
  {
   "cell_type": "code",
   "execution_count": 1,
   "metadata": {},
   "outputs": [],
   "source": [
    "import numpy as np\n",
    "import matplotlib.pyplot as plt\n",
    "import matplotlib.colors as mcolors"
   ]
  },
  {
   "cell_type": "code",
   "execution_count": 2,
   "metadata": {},
   "outputs": [],
   "source": [
    "def rk4(f, y0, t, args=()):\n",
    "    n = len(t)\n",
    "    y = np.zeros((n, len(y0)))\n",
    "    y[0] = y0\n",
    "    for i in range(n - 1):\n",
    "        h = t[i+1] - t[i]\n",
    "        k1 = f(y[i], t[i], *args)\n",
    "        k2 = f(y[i] + k1 * h / 2., t[i] + h / 2., *args)\n",
    "        k3 = f(y[i] + k2 * h / 2., t[i] + h / 2., *args)\n",
    "        k4 = f(y[i] + k3 * h, t[i] + h, *args)\n",
    "        y[i+1] = y[i] + (h / 6.) * (k1 + 2*k2 + 2*k3 + k4)\n",
    "    return t, y"
   ]
  },
  {
   "cell_type": "code",
   "execution_count": 3,
   "metadata": {},
   "outputs": [],
   "source": [
    "def MyModel_Rho_a52_s5C(X, t, rho_5C, a52, g, gT, d, s15, s5C):\n",
    "    \n",
    "    x1, x5 = X\n",
    "    \n",
    "    dotx1 = x1 - g*x1*x1 - gT*x1 - s15*x5*x1\n",
    "    \n",
    "    dotx5 = d - d*x5 + rho_5C*((x1)/(a52+x1))*x5 -s5C*x1*x5 \n",
    "    \n",
    "    return np.array([dotx1, dotx5])"
   ]
  },
  {
   "cell_type": "code",
   "execution_count": 4,
   "metadata": {},
   "outputs": [],
   "source": [
    "aC = 0.2\n",
    "\n",
    "rho_5C = 0\n",
    "\n",
    "a52 = 0.0000225\n",
    "\n",
    "g = 1/6\n",
    "\n",
    "gT = 0.3\n",
    "\n",
    "d = 0.23\n",
    "\n",
    "s15 = 0.5\n",
    "\n",
    "s5C = 0"
   ]
  },
  {
   "cell_type": "code",
   "execution_count": 5,
   "metadata": {},
   "outputs": [],
   "source": [
    "Nt = 20000\n",
    "tmax = 200\n",
    "t = np.linspace(0.,tmax, Nt)\n",
    "\n",
    "x0=[10**(-9),1]\n",
    "rk4_MyModel = rk4(MyModel_Rho_a52_s5C, x0, t, args = (rho_5C, a52, g, gT, d, s15, s5C))\n",
    "t, Xs = rk4_MyModel\n",
    "x1_flat, x5_flat = Xs.T\n",
    "\n",
    "x0=[0.25,0.25]\n",
    "rk4_MyModel = rk4(MyModel_Rho_a52_s5C, x0, t, args = (rho_5C, a52, g, gT, d, s15, s5C))\n",
    "t, Xs = rk4_MyModel\n",
    "x1_lower, x5_lower = Xs.T\n",
    "\n",
    "x0=[0.25,1.75]\n",
    "rk4_MyModel = rk4(MyModel_Rho_a52_s5C, x0, t, args = (rho_5C, a52, g, gT, d, s15, s5C))\n",
    "t, Xs = rk4_MyModel\n",
    "x1_upper, x5_upper = Xs.T"
   ]
  },
  {
   "cell_type": "code",
   "execution_count": 6,
   "metadata": {},
   "outputs": [
    {
     "data": {
      "text/plain": [
       "Text(0.01, 1.05, '$e_0$')"
      ]
     },
     "execution_count": 6,
     "metadata": {},
     "output_type": "execute_result"
    },
    {
     "data": {
      "image/png": "[encoded data removed]",
      "text/plain": [
       "<Figure size 504x504 with 1 Axes>"
      ]
     },
     "metadata": {
      "needs_background": "light"
     },
     "output_type": "display_data"
    }
   ],
   "source": [
    "fig, axs = plt.subplots(1,1,figsize=(7,7))\n",
    "\n",
    "axs.set_xlim(0,1.5)\n",
    "axs.set_ylim(0,2)\n",
    "\n",
    "axs.plot(0,1,'k+',mew=5,markersize=18)\n",
    "axs.plot(1.2,1,'ko',markersize=12)\n",
    "\n",
    "axs.plot(x1_flat, x5_flat, 'k--', linewidth=1.5)\n",
    "axs.plot(x1_upper, x5_upper, 'k--',linewidth=1.5)\n",
    "axs.plot(x1_lower, x5_lower, 'k--',linewidth=1.5)\n",
    "\n",
    "\n",
    "axs.plot(0.25,1.75,'ks',markersize=6)\n",
    "axs.plot(0.25,0.25,'ks',markersize=6)\n",
    "axs.plot(10**(-9),1,'ks',markersize=6)\n",
    "\n",
    "axs.set_xticks([0,0.5,1,1.5])\n",
    "axs.set_xticklabels(['0.0','0.5','1.0',r'$\\tilde{x}_1$'],fontsize=14)\n",
    "\n",
    "axs.set_yticks([0.00,0.25,0.50,0.75,1.00,1.25,1.50,1.75,2.00])\n",
    "axs.set_yticklabels(['0.00','0.25','0.50','0.75','1.00','1.25','1.50','1.75',r'$\\tilde{x}_5$'],fontsize=14)\n",
    "\n",
    "axs.get_xticklabels()[-1].set_fontsize(16)\n",
    "axs.get_yticklabels()[-1].set_fontsize(16)\n",
    "\n",
    "axs.vlines(1.0,0,2,'r',linewidth=1)\n",
    "\n",
    "axs.fill_between(np.array([0.0,1.0,1.0,1.5]),np.array([2.0,2.0,0.0,0.0]),2*np.ones(4),alpha=0.25,facecolor='grey',interpolate=True)\n",
    "\n",
    "axs.text(0.5,0.02,'Lethal Threshold',c='r',fontsize=15)\n",
    "\n",
    "axs.plot(x1_upper[176], x5_upper[176], marker=(3,0,170), markersize=10,color='k')\n",
    "axs.plot(x1_lower[176], x5_lower[176], marker=(3,0,-60), markersize=10,color='k')\n",
    "axs.plot(0.2, 1, marker=(3,0,-90), markersize=10,color='k')\n",
    "\n",
    "axs.text(1.21,1.05,r'$e_3$',fontsize=15)\n",
    "axs.text(0.01,1.05,r'$e_0$',fontsize=15)"
   ]
  }
 ],
 "metadata": {
  "kernelspec": {
   "display_name": "Python 3",
   "language": "python",
   "name": "python3"
  },
  "language_info": {
   "codemirror_mode": {
    "name": "ipython",
    "version": 3
   },
   "file_extension": ".py",
   "mimetype": "text/x-python",
   "name": "python",
   "nbconvert_exporter": "python",
   "pygments_lexer": "ipython3",
   "version": "3.8.3"
  }
 },
 "nbformat": 4,
 "nbformat_minor": 4
}
